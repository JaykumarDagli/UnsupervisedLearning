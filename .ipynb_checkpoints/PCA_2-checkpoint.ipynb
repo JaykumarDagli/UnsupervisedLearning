{
 "cells": [
  {
   "cell_type": "markdown",
   "metadata": {},
   "source": [
    "T SNE "
   ]
  },
  {
   "cell_type": "code",
   "execution_count": 8,
   "metadata": {},
   "outputs": [],
   "source": [
    "import numpy as np\n",
    "import pandas as pd\n",
    "\n",
    "from sklearn.decomposition import PCA \n",
    "from sklearn.preprocessing import scale\n",
    "from sklearn.manifold import TSNE "
   ]
  },
  {
   "cell_type": "code",
   "execution_count": 10,
   "metadata": {},
   "outputs": [],
   "source": [
    "from sklearn import datasets\n",
    "digits = datasets.load_digits()\n",
    "\n",
    "x = digits.data[:500]\n",
    "y = digits.target[:500]"
   ]
  },
  {
   "cell_type": "code",
   "execution_count": 13,
   "metadata": {},
   "outputs": [
    {
     "data": {
      "text/plain": [
       "(500, 64)"
      ]
     },
     "execution_count": 13,
     "metadata": {},
     "output_type": "execute_result"
    }
   ],
   "source": [
    "x.shape"
   ]
  },
  {
   "cell_type": "code",
   "execution_count": 14,
   "metadata": {},
   "outputs": [],
   "source": [
    "tsne = TSNE(n_components=2, random_state=0)"
   ]
  },
  {
   "cell_type": "code",
   "execution_count": 15,
   "metadata": {},
   "outputs": [],
   "source": [
    "x_2d = tsne.fit_transform(x)"
   ]
  },
  {
   "cell_type": "code",
   "execution_count": 16,
   "metadata": {},
   "outputs": [],
   "source": [
    "df=pd.DataFrame(x_2d, columns=['x','y'])"
   ]
  },
  {
   "cell_type": "code",
   "execution_count": 17,
   "metadata": {},
   "outputs": [],
   "source": [
    "df['digits']=y"
   ]
  },
  {
   "cell_type": "code",
   "execution_count": 18,
   "metadata": {},
   "outputs": [
    {
     "data": {
      "text/html": [
       "<div>\n",
       "<style scoped>\n",
       "    .dataframe tbody tr th:only-of-type {\n",
       "        vertical-align: middle;\n",
       "    }\n",
       "\n",
       "    .dataframe tbody tr th {\n",
       "        vertical-align: top;\n",
       "    }\n",
       "\n",
       "    .dataframe thead th {\n",
       "        text-align: right;\n",
       "    }\n",
       "</style>\n",
       "<table border=\"1\" class=\"dataframe\">\n",
       "  <thead>\n",
       "    <tr style=\"text-align: right;\">\n",
       "      <th></th>\n",
       "      <th>x</th>\n",
       "      <th>y</th>\n",
       "      <th>digits</th>\n",
       "    </tr>\n",
       "  </thead>\n",
       "  <tbody>\n",
       "    <tr>\n",
       "      <th>0</th>\n",
       "      <td>21.128862</td>\n",
       "      <td>-27.168310</td>\n",
       "      <td>0</td>\n",
       "    </tr>\n",
       "    <tr>\n",
       "      <th>1</th>\n",
       "      <td>4.987787</td>\n",
       "      <td>19.583260</td>\n",
       "      <td>1</td>\n",
       "    </tr>\n",
       "    <tr>\n",
       "      <th>2</th>\n",
       "      <td>-2.877124</td>\n",
       "      <td>15.290366</td>\n",
       "      <td>2</td>\n",
       "    </tr>\n",
       "    <tr>\n",
       "      <th>3</th>\n",
       "      <td>-8.521600</td>\n",
       "      <td>-21.091736</td>\n",
       "      <td>3</td>\n",
       "    </tr>\n",
       "    <tr>\n",
       "      <th>4</th>\n",
       "      <td>15.439630</td>\n",
       "      <td>23.603703</td>\n",
       "      <td>4</td>\n",
       "    </tr>\n",
       "    <tr>\n",
       "      <th>...</th>\n",
       "      <td>...</td>\n",
       "      <td>...</td>\n",
       "      <td>...</td>\n",
       "    </tr>\n",
       "    <tr>\n",
       "      <th>495</th>\n",
       "      <td>-11.408027</td>\n",
       "      <td>-5.706061</td>\n",
       "      <td>5</td>\n",
       "    </tr>\n",
       "    <tr>\n",
       "      <th>496</th>\n",
       "      <td>12.562231</td>\n",
       "      <td>22.834518</td>\n",
       "      <td>4</td>\n",
       "    </tr>\n",
       "    <tr>\n",
       "      <th>497</th>\n",
       "      <td>12.427700</td>\n",
       "      <td>21.450829</td>\n",
       "      <td>4</td>\n",
       "    </tr>\n",
       "    <tr>\n",
       "      <th>498</th>\n",
       "      <td>-16.493898</td>\n",
       "      <td>10.183492</td>\n",
       "      <td>7</td>\n",
       "    </tr>\n",
       "    <tr>\n",
       "      <th>499</th>\n",
       "      <td>-33.120514</td>\n",
       "      <td>0.248082</td>\n",
       "      <td>2</td>\n",
       "    </tr>\n",
       "  </tbody>\n",
       "</table>\n",
       "<p>500 rows × 3 columns</p>\n",
       "</div>"
      ],
      "text/plain": [
       "             x          y  digits\n",
       "0    21.128862 -27.168310       0\n",
       "1     4.987787  19.583260       1\n",
       "2    -2.877124  15.290366       2\n",
       "3    -8.521600 -21.091736       3\n",
       "4    15.439630  23.603703       4\n",
       "..         ...        ...     ...\n",
       "495 -11.408027  -5.706061       5\n",
       "496  12.562231  22.834518       4\n",
       "497  12.427700  21.450829       4\n",
       "498 -16.493898  10.183492       7\n",
       "499 -33.120514   0.248082       2\n",
       "\n",
       "[500 rows x 3 columns]"
      ]
     },
     "execution_count": 18,
     "metadata": {},
     "output_type": "execute_result"
    }
   ],
   "source": [
    "df"
   ]
  },
  {
   "cell_type": "code",
   "execution_count": 20,
   "metadata": {},
   "outputs": [],
   "source": [
    "import seaborn as sns\n",
    "%matplotlib inline"
   ]
  },
  {
   "cell_type": "code",
   "execution_count": 23,
   "metadata": {},
   "outputs": [
    {
     "data": {
      "text/plain": [
       "<seaborn.axisgrid.FacetGrid at 0x1a3238dc6c8>"
      ]
     },
     "execution_count": 23,
     "metadata": {},
     "output_type": "execute_result"
    },
    {
     "data": {
      "image/png": "[encoded data removed]",
      "text/plain": [
       "<Figure size 402.375x360 with 1 Axes>"
      ]
     },
     "metadata": {
      "needs_background": "light"
     },
     "output_type": "display_data"
    }
   ],
   "source": [
    "sns.lmplot('x','y', data=df, fit_reg=False, hue='digits')"
   ]
  },
  {
   "cell_type": "markdown",
   "metadata": {},
   "source": [
    "t sne on wine data "
   ]
  },
  {
   "cell_type": "code",
   "execution_count": 25,
   "metadata": {},
   "outputs": [],
   "source": [
    "wine=pd.read_csv('winequality-white.csv', delimiter=';')"
   ]
  },
  {
   "cell_type": "code",
   "execution_count": 26,
   "metadata": {},
   "outputs": [
    {
     "data": {
      "text/html": [
       "<div>\n",
       "<style scoped>\n",
       "    .dataframe tbody tr th:only-of-type {\n",
       "        vertical-align: middle;\n",
       "    }\n",
       "\n",
       "    .dataframe tbody tr th {\n",
       "        vertical-align: top;\n",
       "    }\n",
       "\n",
       "    .dataframe thead th {\n",
       "        text-align: right;\n",
       "    }\n",
       "</style>\n",
       "<table border=\"1\" class=\"dataframe\">\n",
       "  <thead>\n",
       "    <tr style=\"text-align: right;\">\n",
       "      <th></th>\n",
       "      <th>fixed acidity</th>\n",
       "      <th>volatile acidity</th>\n",
       "      <th>citric acid</th>\n",
       "      <th>residual sugar</th>\n",
       "      <th>chlorides</th>\n",
       "      <th>free sulfur dioxide</th>\n",
       "      <th>total sulfur dioxide</th>\n",
       "      <th>density</th>\n",
       "      <th>pH</th>\n",
       "      <th>sulphates</th>\n",
       "      <th>alcohol</th>\n",
       "      <th>quality</th>\n",
       "    </tr>\n",
       "  </thead>\n",
       "  <tbody>\n",
       "    <tr>\n",
       "      <th>0</th>\n",
       "      <td>7.0</td>\n",
       "      <td>0.27</td>\n",
       "      <td>0.36</td>\n",
       "      <td>20.7</td>\n",
       "      <td>0.045</td>\n",
       "      <td>45.0</td>\n",
       "      <td>170.0</td>\n",
       "      <td>1.0010</td>\n",
       "      <td>3.00</td>\n",
       "      <td>0.45</td>\n",
       "      <td>8.8</td>\n",
       "      <td>6</td>\n",
       "    </tr>\n",
       "    <tr>\n",
       "      <th>1</th>\n",
       "      <td>6.3</td>\n",
       "      <td>0.30</td>\n",
       "      <td>0.34</td>\n",
       "      <td>1.6</td>\n",
       "      <td>0.049</td>\n",
       "      <td>14.0</td>\n",
       "      <td>132.0</td>\n",
       "      <td>0.9940</td>\n",
       "      <td>3.30</td>\n",
       "      <td>0.49</td>\n",
       "      <td>9.5</td>\n",
       "      <td>6</td>\n",
       "    </tr>\n",
       "    <tr>\n",
       "      <th>2</th>\n",
       "      <td>8.1</td>\n",
       "      <td>0.28</td>\n",
       "      <td>0.40</td>\n",
       "      <td>6.9</td>\n",
       "      <td>0.050</td>\n",
       "      <td>30.0</td>\n",
       "      <td>97.0</td>\n",
       "      <td>0.9951</td>\n",
       "      <td>3.26</td>\n",
       "      <td>0.44</td>\n",
       "      <td>10.1</td>\n",
       "      <td>6</td>\n",
       "    </tr>\n",
       "    <tr>\n",
       "      <th>3</th>\n",
       "      <td>7.2</td>\n",
       "      <td>0.23</td>\n",
       "      <td>0.32</td>\n",
       "      <td>8.5</td>\n",
       "      <td>0.058</td>\n",
       "      <td>47.0</td>\n",
       "      <td>186.0</td>\n",
       "      <td>0.9956</td>\n",
       "      <td>3.19</td>\n",
       "      <td>0.40</td>\n",
       "      <td>9.9</td>\n",
       "      <td>6</td>\n",
       "    </tr>\n",
       "    <tr>\n",
       "      <th>4</th>\n",
       "      <td>7.2</td>\n",
       "      <td>0.23</td>\n",
       "      <td>0.32</td>\n",
       "      <td>8.5</td>\n",
       "      <td>0.058</td>\n",
       "      <td>47.0</td>\n",
       "      <td>186.0</td>\n",
       "      <td>0.9956</td>\n",
       "      <td>3.19</td>\n",
       "      <td>0.40</td>\n",
       "      <td>9.9</td>\n",
       "      <td>6</td>\n",
       "    </tr>\n",
       "  </tbody>\n",
       "</table>\n",
       "</div>"
      ],
      "text/plain": [
       "   fixed acidity  volatile acidity  citric acid  residual sugar  chlorides  \\\n",
       "0            7.0              0.27         0.36            20.7      0.045   \n",
       "1            6.3              0.30         0.34             1.6      0.049   \n",
       "2            8.1              0.28         0.40             6.9      0.050   \n",
       "3            7.2              0.23         0.32             8.5      0.058   \n",
       "4            7.2              0.23         0.32             8.5      0.058   \n",
       "\n",
       "   free sulfur dioxide  total sulfur dioxide  density    pH  sulphates  \\\n",
       "0                 45.0                 170.0   1.0010  3.00       0.45   \n",
       "1                 14.0                 132.0   0.9940  3.30       0.49   \n",
       "2                 30.0                  97.0   0.9951  3.26       0.44   \n",
       "3                 47.0                 186.0   0.9956  3.19       0.40   \n",
       "4                 47.0                 186.0   0.9956  3.19       0.40   \n",
       "\n",
       "   alcohol  quality  \n",
       "0      8.8        6  \n",
       "1      9.5        6  \n",
       "2     10.1        6  \n",
       "3      9.9        6  \n",
       "4      9.9        6  "
      ]
     },
     "execution_count": 26,
     "metadata": {},
     "output_type": "execute_result"
    }
   ],
   "source": [
    "wine.head()"
   ]
  },
  {
   "cell_type": "code",
   "execution_count": 38,
   "metadata": {},
   "outputs": [],
   "source": [
    "x1=scale(wine.iloc[:,:-1])"
   ]
  },
  {
   "cell_type": "code",
   "execution_count": 39,
   "metadata": {},
   "outputs": [
    {
     "data": {
      "text/plain": [
       "array([[ 1.72096961e-01, -8.17699008e-02,  2.13280202e-01, ...,\n",
       "        -1.24692128e+00, -3.49184257e-01, -1.39315246e+00],\n",
       "       [-6.57501128e-01,  2.15895632e-01,  4.80011213e-02, ...,\n",
       "         7.40028640e-01,  1.34184656e-03, -8.24275678e-01],\n",
       "       [ 1.47575110e+00,  1.74519434e-02,  5.43838363e-01, ...,\n",
       "         4.75101984e-01, -4.36815783e-01, -3.36667007e-01],\n",
       "       ...,\n",
       "       [-4.20473102e-01, -3.79435433e-01, -1.19159198e+00, ...,\n",
       "        -1.31315295e+00, -2.61552731e-01, -9.05543789e-01],\n",
       "       [-1.60561323e+00,  1.16673788e-01, -2.82557040e-01, ...,\n",
       "         1.00495530e+00, -9.62604939e-01,  1.85757201e+00],\n",
       "       [-1.01304317e+00, -6.77100966e-01,  3.78559282e-01, ...,\n",
       "         4.75101984e-01, -1.48839409e+00,  1.04489089e+00]])"
      ]
     },
     "execution_count": 39,
     "metadata": {},
     "output_type": "execute_result"
    }
   ],
   "source": [
    "x1"
   ]
  },
  {
   "cell_type": "code",
   "execution_count": 40,
   "metadata": {},
   "outputs": [],
   "source": [
    "x_2d=tsne.fit_transform(x1)"
   ]
  },
  {
   "cell_type": "code",
   "execution_count": 41,
   "metadata": {},
   "outputs": [],
   "source": [
    "df=pd.DataFrame(x_2d, columns=['x','y'])"
   ]
  },
  {
   "cell_type": "code",
   "execution_count": 42,
   "metadata": {},
   "outputs": [],
   "source": [
    "df['quality'] = wine['quality']"
   ]
  },
  {
   "cell_type": "code",
   "execution_count": 43,
   "metadata": {},
   "outputs": [
    {
     "data": {
      "text/plain": [
       "<seaborn.axisgrid.FacetGrid at 0x1a31ffbac08>"
      ]
     },
     "execution_count": 43,
     "metadata": {},
     "output_type": "execute_result"
    },
    {
     "data": {
      "image/png": "[encoded data removed]",
      "text/plain": [
       "<Figure size 360x360 with 1 Axes>"
      ]
     },
     "metadata": {
      "needs_background": "light"
     },
     "output_type": "display_data"
    }
   ],
   "source": [
    "sns.lmplot('x','y', data=df, fit_reg=False)"
   ]
  },
  {
   "cell_type": "code",
   "execution_count": 44,
   "metadata": {},
   "outputs": [
    {
     "data": {
      "text/plain": [
       "<seaborn.axisgrid.FacetGrid at 0x1a3200aebc8>"
      ]
     },
     "execution_count": 44,
     "metadata": {},
     "output_type": "execute_result"
    },
    {
     "data": {
      "image/png": "[encoded data removed]",
      "text/plain": [
       "<Figure size 402.375x360 with 1 Axes>"
      ]
     },
     "metadata": {
      "needs_background": "light"
     },
     "output_type": "display_data"
    }
   ],
   "source": [
    "sns.lmplot('x','y', data=df, fit_reg=False, hue='quality')"
   ]
  },
  {
   "cell_type": "code",
   "execution_count": 45,
   "metadata": {},
   "outputs": [
    {
     "data": {
      "text/plain": [
       "6    2198\n",
       "5    1457\n",
       "7     880\n",
       "8     175\n",
       "4     163\n",
       "3      20\n",
       "9       5\n",
       "Name: quality, dtype: int64"
      ]
     },
     "execution_count": 45,
     "metadata": {},
     "output_type": "execute_result"
    }
   ],
   "source": [
    "df['quality'].value_counts()"
   ]
  },
  {
   "cell_type": "markdown",
   "metadata": {},
   "source": [
    "PCA"
   ]
  },
  {
   "cell_type": "code",
   "execution_count": 46,
   "metadata": {},
   "outputs": [],
   "source": [
    "df=pd.read_csv('Existing Base.csv')"
   ]
  },
  {
   "cell_type": "code",
   "execution_count": 50,
   "metadata": {},
   "outputs": [
    {
     "name": "stdout",
     "output_type": "stream",
     "text": [
      "<class 'pandas.core.frame.DataFrame'>\n",
      "RangeIndex: 10155 entries, 0 to 10154\n",
      "Data columns (total 32 columns):\n",
      " #   Column                           Non-Null Count  Dtype  \n",
      "---  ------                           --------------  -----  \n",
      " 0   REF_NO                           10155 non-null  int64  \n",
      " 1   children                         10155 non-null  object \n",
      " 2   age_band                         10155 non-null  object \n",
      " 3   status                           10155 non-null  object \n",
      " 4   occupation                       10155 non-null  object \n",
      " 5   occupation_partner               10155 non-null  object \n",
      " 6   home_status                      10155 non-null  object \n",
      " 7   family_income                    10155 non-null  object \n",
      " 8   self_employed                    10155 non-null  object \n",
      " 9   self_employed_partner            10155 non-null  object \n",
      " 10  year_last_moved                  10155 non-null  int64  \n",
      " 11  TVarea                           10155 non-null  object \n",
      " 12  post_code                        10155 non-null  object \n",
      " 13  post_area                        10155 non-null  object \n",
      " 14  Average Credit Card Transaction  10155 non-null  float64\n",
      " 15  Balance Transfer                 10155 non-null  float64\n",
      " 16  Term Deposit                     10155 non-null  float64\n",
      " 17  Life Insurance                   10155 non-null  float64\n",
      " 18  Medical Insurance                10155 non-null  float64\n",
      " 19  Average A/C Balance              10155 non-null  float64\n",
      " 20  Personal Loan                    10155 non-null  float64\n",
      " 21  Investment in Mutual Fund        10155 non-null  float64\n",
      " 22  Investment Tax Saving Bond       10155 non-null  float64\n",
      " 23  Home Loan                        10155 non-null  float64\n",
      " 24  Online Purchase Amount           10155 non-null  float64\n",
      " 25  Revenue Grid                     10155 non-null  int64  \n",
      " 26  gender                           10155 non-null  object \n",
      " 27  region                           10155 non-null  object \n",
      " 28  Investment in Commudity          10155 non-null  float64\n",
      " 29  Investment in Equity             10155 non-null  float64\n",
      " 30  Investment in Derivative         10155 non-null  float64\n",
      " 31  Portfolio Balance                10155 non-null  float64\n",
      "dtypes: float64(15), int64(3), object(14)\n",
      "memory usage: 2.5+ MB\n"
     ]
    }
   ],
   "source": [
    "df.info()"
   ]
  },
  {
   "cell_type": "code",
   "execution_count": 51,
   "metadata": {},
   "outputs": [],
   "source": [
    "df=df[['Average Credit Card Transaction','Balance Transfer', 'Term Deposit', 'Life Insurance', 'Medical Insurance', 'Average A/C Balance','Personal Loan', 'Investment in Mutual Fund', 'Investment Tax Saving Bond','Home Loan', 'Online Purchase Amount', 'Investment in Commudity', 'Investment in Equity', 'Investment in Derivative', 'Portfolio Balance' ]]"
   ]
  },
  {
   "cell_type": "code",
   "execution_count": 52,
   "metadata": {},
   "outputs": [
    {
     "data": {
      "text/html": [
       "<div>\n",
       "<style scoped>\n",
       "    .dataframe tbody tr th:only-of-type {\n",
       "        vertical-align: middle;\n",
       "    }\n",
       "\n",
       "    .dataframe tbody tr th {\n",
       "        vertical-align: top;\n",
       "    }\n",
       "\n",
       "    .dataframe thead th {\n",
       "        text-align: right;\n",
       "    }\n",
       "</style>\n",
       "<table border=\"1\" class=\"dataframe\">\n",
       "  <thead>\n",
       "    <tr style=\"text-align: right;\">\n",
       "      <th></th>\n",
       "      <th>Average Credit Card Transaction</th>\n",
       "      <th>Balance Transfer</th>\n",
       "      <th>Term Deposit</th>\n",
       "      <th>Life Insurance</th>\n",
       "      <th>Medical Insurance</th>\n",
       "      <th>Average A/C Balance</th>\n",
       "      <th>Personal Loan</th>\n",
       "      <th>Investment in Mutual Fund</th>\n",
       "      <th>Investment Tax Saving Bond</th>\n",
       "      <th>Home Loan</th>\n",
       "      <th>Online Purchase Amount</th>\n",
       "      <th>Investment in Commudity</th>\n",
       "      <th>Investment in Equity</th>\n",
       "      <th>Investment in Derivative</th>\n",
       "      <th>Portfolio Balance</th>\n",
       "    </tr>\n",
       "  </thead>\n",
       "  <tbody>\n",
       "    <tr>\n",
       "      <th>Average Credit Card Transaction</th>\n",
       "      <td>1.000000</td>\n",
       "      <td>0.123855</td>\n",
       "      <td>0.323462</td>\n",
       "      <td>0.145041</td>\n",
       "      <td>0.405090</td>\n",
       "      <td>0.172240</td>\n",
       "      <td>0.087289</td>\n",
       "      <td>0.150667</td>\n",
       "      <td>0.133126</td>\n",
       "      <td>0.087695</td>\n",
       "      <td>0.132518</td>\n",
       "      <td>0.497025</td>\n",
       "      <td>0.205289</td>\n",
       "      <td>0.228141</td>\n",
       "      <td>0.335674</td>\n",
       "    </tr>\n",
       "    <tr>\n",
       "      <th>Balance Transfer</th>\n",
       "      <td>0.123855</td>\n",
       "      <td>1.000000</td>\n",
       "      <td>0.229457</td>\n",
       "      <td>0.564538</td>\n",
       "      <td>0.162085</td>\n",
       "      <td>0.358938</td>\n",
       "      <td>0.351499</td>\n",
       "      <td>0.454602</td>\n",
       "      <td>0.166496</td>\n",
       "      <td>0.153097</td>\n",
       "      <td>0.112012</td>\n",
       "      <td>0.739791</td>\n",
       "      <td>0.463556</td>\n",
       "      <td>0.581039</td>\n",
       "      <td>0.639400</td>\n",
       "    </tr>\n",
       "    <tr>\n",
       "      <th>Term Deposit</th>\n",
       "      <td>0.323462</td>\n",
       "      <td>0.229457</td>\n",
       "      <td>1.000000</td>\n",
       "      <td>0.274691</td>\n",
       "      <td>0.506367</td>\n",
       "      <td>0.274027</td>\n",
       "      <td>0.146755</td>\n",
       "      <td>0.208948</td>\n",
       "      <td>0.176975</td>\n",
       "      <td>0.170584</td>\n",
       "      <td>0.099455</td>\n",
       "      <td>0.620256</td>\n",
       "      <td>0.266908</td>\n",
       "      <td>0.354304</td>\n",
       "      <td>0.454740</td>\n",
       "    </tr>\n",
       "    <tr>\n",
       "      <th>Life Insurance</th>\n",
       "      <td>0.145041</td>\n",
       "      <td>0.564538</td>\n",
       "      <td>0.274691</td>\n",
       "      <td>1.000000</td>\n",
       "      <td>0.238435</td>\n",
       "      <td>0.514339</td>\n",
       "      <td>0.380563</td>\n",
       "      <td>0.544439</td>\n",
       "      <td>0.263675</td>\n",
       "      <td>0.279959</td>\n",
       "      <td>0.128785</td>\n",
       "      <td>0.803326</td>\n",
       "      <td>0.564287</td>\n",
       "      <td>0.839266</td>\n",
       "      <td>0.787311</td>\n",
       "    </tr>\n",
       "    <tr>\n",
       "      <th>Medical Insurance</th>\n",
       "      <td>0.405090</td>\n",
       "      <td>0.162085</td>\n",
       "      <td>0.506367</td>\n",
       "      <td>0.238435</td>\n",
       "      <td>1.000000</td>\n",
       "      <td>0.264615</td>\n",
       "      <td>0.105134</td>\n",
       "      <td>0.209651</td>\n",
       "      <td>0.201057</td>\n",
       "      <td>0.136310</td>\n",
       "      <td>0.149651</td>\n",
       "      <td>0.548282</td>\n",
       "      <td>0.269922</td>\n",
       "      <td>0.392548</td>\n",
       "      <td>0.441631</td>\n",
       "    </tr>\n",
       "    <tr>\n",
       "      <th>Average A/C Balance</th>\n",
       "      <td>0.172240</td>\n",
       "      <td>0.358938</td>\n",
       "      <td>0.274027</td>\n",
       "      <td>0.514339</td>\n",
       "      <td>0.264615</td>\n",
       "      <td>1.000000</td>\n",
       "      <td>0.219801</td>\n",
       "      <td>0.448270</td>\n",
       "      <td>0.307552</td>\n",
       "      <td>0.367590</td>\n",
       "      <td>0.162821</td>\n",
       "      <td>0.517832</td>\n",
       "      <td>0.600278</td>\n",
       "      <td>0.657742</td>\n",
       "      <td>0.616051</td>\n",
       "    </tr>\n",
       "    <tr>\n",
       "      <th>Personal Loan</th>\n",
       "      <td>0.087289</td>\n",
       "      <td>0.351499</td>\n",
       "      <td>0.146755</td>\n",
       "      <td>0.380563</td>\n",
       "      <td>0.105134</td>\n",
       "      <td>0.219801</td>\n",
       "      <td>1.000000</td>\n",
       "      <td>0.379615</td>\n",
       "      <td>0.233020</td>\n",
       "      <td>0.128062</td>\n",
       "      <td>0.073292</td>\n",
       "      <td>0.377170</td>\n",
       "      <td>0.676053</td>\n",
       "      <td>0.687417</td>\n",
       "      <td>0.598919</td>\n",
       "    </tr>\n",
       "    <tr>\n",
       "      <th>Investment in Mutual Fund</th>\n",
       "      <td>0.150667</td>\n",
       "      <td>0.454602</td>\n",
       "      <td>0.208948</td>\n",
       "      <td>0.544439</td>\n",
       "      <td>0.209651</td>\n",
       "      <td>0.448270</td>\n",
       "      <td>0.379615</td>\n",
       "      <td>1.000000</td>\n",
       "      <td>0.271580</td>\n",
       "      <td>0.261562</td>\n",
       "      <td>0.115087</td>\n",
       "      <td>0.536715</td>\n",
       "      <td>0.693435</td>\n",
       "      <td>0.761125</td>\n",
       "      <td>0.695337</td>\n",
       "    </tr>\n",
       "    <tr>\n",
       "      <th>Investment Tax Saving Bond</th>\n",
       "      <td>0.133126</td>\n",
       "      <td>0.166496</td>\n",
       "      <td>0.176975</td>\n",
       "      <td>0.263675</td>\n",
       "      <td>0.201057</td>\n",
       "      <td>0.307552</td>\n",
       "      <td>0.233020</td>\n",
       "      <td>0.271580</td>\n",
       "      <td>1.000000</td>\n",
       "      <td>0.261626</td>\n",
       "      <td>0.211596</td>\n",
       "      <td>0.289110</td>\n",
       "      <td>0.446271</td>\n",
       "      <td>0.407148</td>\n",
       "      <td>0.395889</td>\n",
       "    </tr>\n",
       "    <tr>\n",
       "      <th>Home Loan</th>\n",
       "      <td>0.087695</td>\n",
       "      <td>0.153097</td>\n",
       "      <td>0.170584</td>\n",
       "      <td>0.279959</td>\n",
       "      <td>0.136310</td>\n",
       "      <td>0.367590</td>\n",
       "      <td>0.128062</td>\n",
       "      <td>0.261562</td>\n",
       "      <td>0.261626</td>\n",
       "      <td>1.000000</td>\n",
       "      <td>0.101066</td>\n",
       "      <td>0.268989</td>\n",
       "      <td>0.348181</td>\n",
       "      <td>0.335651</td>\n",
       "      <td>0.326663</td>\n",
       "    </tr>\n",
       "    <tr>\n",
       "      <th>Online Purchase Amount</th>\n",
       "      <td>0.132518</td>\n",
       "      <td>0.112012</td>\n",
       "      <td>0.099455</td>\n",
       "      <td>0.128785</td>\n",
       "      <td>0.149651</td>\n",
       "      <td>0.162821</td>\n",
       "      <td>0.073292</td>\n",
       "      <td>0.115087</td>\n",
       "      <td>0.211596</td>\n",
       "      <td>0.101066</td>\n",
       "      <td>1.000000</td>\n",
       "      <td>0.180074</td>\n",
       "      <td>0.597440</td>\n",
       "      <td>0.173943</td>\n",
       "      <td>0.309800</td>\n",
       "    </tr>\n",
       "    <tr>\n",
       "      <th>Investment in Commudity</th>\n",
       "      <td>0.497025</td>\n",
       "      <td>0.739791</td>\n",
       "      <td>0.620256</td>\n",
       "      <td>0.803326</td>\n",
       "      <td>0.548282</td>\n",
       "      <td>0.517832</td>\n",
       "      <td>0.377170</td>\n",
       "      <td>0.536715</td>\n",
       "      <td>0.289110</td>\n",
       "      <td>0.268989</td>\n",
       "      <td>0.180074</td>\n",
       "      <td>1.000000</td>\n",
       "      <td>0.586210</td>\n",
       "      <td>0.800779</td>\n",
       "      <td>0.858020</td>\n",
       "    </tr>\n",
       "    <tr>\n",
       "      <th>Investment in Equity</th>\n",
       "      <td>0.205289</td>\n",
       "      <td>0.463556</td>\n",
       "      <td>0.266908</td>\n",
       "      <td>0.564287</td>\n",
       "      <td>0.269922</td>\n",
       "      <td>0.600278</td>\n",
       "      <td>0.676053</td>\n",
       "      <td>0.693435</td>\n",
       "      <td>0.446271</td>\n",
       "      <td>0.348181</td>\n",
       "      <td>0.597440</td>\n",
       "      <td>0.586210</td>\n",
       "      <td>1.000000</td>\n",
       "      <td>0.839552</td>\n",
       "      <td>0.831134</td>\n",
       "    </tr>\n",
       "    <tr>\n",
       "      <th>Investment in Derivative</th>\n",
       "      <td>0.228141</td>\n",
       "      <td>0.581039</td>\n",
       "      <td>0.354304</td>\n",
       "      <td>0.839266</td>\n",
       "      <td>0.392548</td>\n",
       "      <td>0.657742</td>\n",
       "      <td>0.687417</td>\n",
       "      <td>0.761125</td>\n",
       "      <td>0.407148</td>\n",
       "      <td>0.335651</td>\n",
       "      <td>0.173943</td>\n",
       "      <td>0.800779</td>\n",
       "      <td>0.839552</td>\n",
       "      <td>1.000000</td>\n",
       "      <td>0.927232</td>\n",
       "    </tr>\n",
       "    <tr>\n",
       "      <th>Portfolio Balance</th>\n",
       "      <td>0.335674</td>\n",
       "      <td>0.639400</td>\n",
       "      <td>0.454740</td>\n",
       "      <td>0.787311</td>\n",
       "      <td>0.441631</td>\n",
       "      <td>0.616051</td>\n",
       "      <td>0.598919</td>\n",
       "      <td>0.695337</td>\n",
       "      <td>0.395889</td>\n",
       "      <td>0.326663</td>\n",
       "      <td>0.309800</td>\n",
       "      <td>0.858020</td>\n",
       "      <td>0.831134</td>\n",
       "      <td>0.927232</td>\n",
       "      <td>1.000000</td>\n",
       "    </tr>\n",
       "  </tbody>\n",
       "</table>\n",
       "</div>"
      ],
      "text/plain": [
       "                                 Average Credit Card Transaction  \\\n",
       "Average Credit Card Transaction                         1.000000   \n",
       "Balance Transfer                                        0.123855   \n",
       "Term Deposit                                            0.323462   \n",
       "Life Insurance                                          0.145041   \n",
       "Medical Insurance                                       0.405090   \n",
       "Average A/C Balance                                     0.172240   \n",
       "Personal Loan                                           0.087289   \n",
       "Investment in Mutual Fund                               0.150667   \n",
       "Investment Tax Saving Bond                              0.133126   \n",
       "Home Loan                                               0.087695   \n",
       "Online Purchase Amount                                  0.132518   \n",
       "Investment in Commudity                                 0.497025   \n",
       "Investment in Equity                                    0.205289   \n",
       "Investment in Derivative                                0.228141   \n",
       "Portfolio Balance                                       0.335674   \n",
       "\n",
       "                                 Balance Transfer  Term Deposit  \\\n",
       "Average Credit Card Transaction          0.123855      0.323462   \n",
       "Balance Transfer                         1.000000      0.229457   \n",
       "Term Deposit                             0.229457      1.000000   \n",
       "Life Insurance                           0.564538      0.274691   \n",
       "Medical Insurance                        0.162085      0.506367   \n",
       "Average A/C Balance                      0.358938      0.274027   \n",
       "Personal Loan                            0.351499      0.146755   \n",
       "Investment in Mutual Fund                0.454602      0.208948   \n",
       "Investment Tax Saving Bond               0.166496      0.176975   \n",
       "Home Loan                                0.153097      0.170584   \n",
       "Online Purchase Amount                   0.112012      0.099455   \n",
       "Investment in Commudity                  0.739791      0.620256   \n",
       "Investment in Equity                     0.463556      0.266908   \n",
       "Investment in Derivative                 0.581039      0.354304   \n",
       "Portfolio Balance                        0.639400      0.454740   \n",
       "\n",
       "                                 Life Insurance  Medical Insurance  \\\n",
       "Average Credit Card Transaction        0.145041           0.405090   \n",
       "Balance Transfer                       0.564538           0.162085   \n",
       "Term Deposit                           0.274691           0.506367   \n",
       "Life Insurance                         1.000000           0.238435   \n",
       "Medical Insurance                      0.238435           1.000000   \n",
       "Average A/C Balance                    0.514339           0.264615   \n",
       "Personal Loan                          0.380563           0.105134   \n",
       "Investment in Mutual Fund              0.544439           0.209651   \n",
       "Investment Tax Saving Bond             0.263675           0.201057   \n",
       "Home Loan                              0.279959           0.136310   \n",
       "Online Purchase Amount                 0.128785           0.149651   \n",
       "Investment in Commudity                0.803326           0.548282   \n",
       "Investment in Equity                   0.564287           0.269922   \n",
       "Investment in Derivative               0.839266           0.392548   \n",
       "Portfolio Balance                      0.787311           0.441631   \n",
       "\n",
       "                                 Average A/C Balance  Personal Loan  \\\n",
       "Average Credit Card Transaction             0.172240       0.087289   \n",
       "Balance Transfer                            0.358938       0.351499   \n",
       "Term Deposit                                0.274027       0.146755   \n",
       "Life Insurance                              0.514339       0.380563   \n",
       "Medical Insurance                           0.264615       0.105134   \n",
       "Average A/C Balance                         1.000000       0.219801   \n",
       "Personal Loan                               0.219801       1.000000   \n",
       "Investment in Mutual Fund                   0.448270       0.379615   \n",
       "Investment Tax Saving Bond                  0.307552       0.233020   \n",
       "Home Loan                                   0.367590       0.128062   \n",
       "Online Purchase Amount                      0.162821       0.073292   \n",
       "Investment in Commudity                     0.517832       0.377170   \n",
       "Investment in Equity                        0.600278       0.676053   \n",
       "Investment in Derivative                    0.657742       0.687417   \n",
       "Portfolio Balance                           0.616051       0.598919   \n",
       "\n",
       "                                 Investment in Mutual Fund  \\\n",
       "Average Credit Card Transaction                   0.150667   \n",
       "Balance Transfer                                  0.454602   \n",
       "Term Deposit                                      0.208948   \n",
       "Life Insurance                                    0.544439   \n",
       "Medical Insurance                                 0.209651   \n",
       "Average A/C Balance                               0.448270   \n",
       "Personal Loan                                     0.379615   \n",
       "Investment in Mutual Fund                         1.000000   \n",
       "Investment Tax Saving Bond                        0.271580   \n",
       "Home Loan                                         0.261562   \n",
       "Online Purchase Amount                            0.115087   \n",
       "Investment in Commudity                           0.536715   \n",
       "Investment in Equity                              0.693435   \n",
       "Investment in Derivative                          0.761125   \n",
       "Portfolio Balance                                 0.695337   \n",
       "\n",
       "                                 Investment Tax Saving Bond  Home Loan  \\\n",
       "Average Credit Card Transaction                    0.133126   0.087695   \n",
       "Balance Transfer                                   0.166496   0.153097   \n",
       "Term Deposit                                       0.176975   0.170584   \n",
       "Life Insurance                                     0.263675   0.279959   \n",
       "Medical Insurance                                  0.201057   0.136310   \n",
       "Average A/C Balance                                0.307552   0.367590   \n",
       "Personal Loan                                      0.233020   0.128062   \n",
       "Investment in Mutual Fund                          0.271580   0.261562   \n",
       "Investment Tax Saving Bond                         1.000000   0.261626   \n",
       "Home Loan                                          0.261626   1.000000   \n",
       "Online Purchase Amount                             0.211596   0.101066   \n",
       "Investment in Commudity                            0.289110   0.268989   \n",
       "Investment in Equity                               0.446271   0.348181   \n",
       "Investment in Derivative                           0.407148   0.335651   \n",
       "Portfolio Balance                                  0.395889   0.326663   \n",
       "\n",
       "                                 Online Purchase Amount  \\\n",
       "Average Credit Card Transaction                0.132518   \n",
       "Balance Transfer                               0.112012   \n",
       "Term Deposit                                   0.099455   \n",
       "Life Insurance                                 0.128785   \n",
       "Medical Insurance                              0.149651   \n",
       "Average A/C Balance                            0.162821   \n",
       "Personal Loan                                  0.073292   \n",
       "Investment in Mutual Fund                      0.115087   \n",
       "Investment Tax Saving Bond                     0.211596   \n",
       "Home Loan                                      0.101066   \n",
       "Online Purchase Amount                         1.000000   \n",
       "Investment in Commudity                        0.180074   \n",
       "Investment in Equity                           0.597440   \n",
       "Investment in Derivative                       0.173943   \n",
       "Portfolio Balance                              0.309800   \n",
       "\n",
       "                                 Investment in Commudity  \\\n",
       "Average Credit Card Transaction                 0.497025   \n",
       "Balance Transfer                                0.739791   \n",
       "Term Deposit                                    0.620256   \n",
       "Life Insurance                                  0.803326   \n",
       "Medical Insurance                               0.548282   \n",
       "Average A/C Balance                             0.517832   \n",
       "Personal Loan                                   0.377170   \n",
       "Investment in Mutual Fund                       0.536715   \n",
       "Investment Tax Saving Bond                      0.289110   \n",
       "Home Loan                                       0.268989   \n",
       "Online Purchase Amount                          0.180074   \n",
       "Investment in Commudity                         1.000000   \n",
       "Investment in Equity                            0.586210   \n",
       "Investment in Derivative                        0.800779   \n",
       "Portfolio Balance                               0.858020   \n",
       "\n",
       "                                 Investment in Equity  \\\n",
       "Average Credit Card Transaction              0.205289   \n",
       "Balance Transfer                             0.463556   \n",
       "Term Deposit                                 0.266908   \n",
       "Life Insurance                               0.564287   \n",
       "Medical Insurance                            0.269922   \n",
       "Average A/C Balance                          0.600278   \n",
       "Personal Loan                                0.676053   \n",
       "Investment in Mutual Fund                    0.693435   \n",
       "Investment Tax Saving Bond                   0.446271   \n",
       "Home Loan                                    0.348181   \n",
       "Online Purchase Amount                       0.597440   \n",
       "Investment in Commudity                      0.586210   \n",
       "Investment in Equity                         1.000000   \n",
       "Investment in Derivative                     0.839552   \n",
       "Portfolio Balance                            0.831134   \n",
       "\n",
       "                                 Investment in Derivative  Portfolio Balance  \n",
       "Average Credit Card Transaction                  0.228141           0.335674  \n",
       "Balance Transfer                                 0.581039           0.639400  \n",
       "Term Deposit                                     0.354304           0.454740  \n",
       "Life Insurance                                   0.839266           0.787311  \n",
       "Medical Insurance                                0.392548           0.441631  \n",
       "Average A/C Balance                              0.657742           0.616051  \n",
       "Personal Loan                                    0.687417           0.598919  \n",
       "Investment in Mutual Fund                        0.761125           0.695337  \n",
       "Investment Tax Saving Bond                       0.407148           0.395889  \n",
       "Home Loan                                        0.335651           0.326663  \n",
       "Online Purchase Amount                           0.173943           0.309800  \n",
       "Investment in Commudity                          0.800779           0.858020  \n",
       "Investment in Equity                             0.839552           0.831134  \n",
       "Investment in Derivative                         1.000000           0.927232  \n",
       "Portfolio Balance                                0.927232           1.000000  "
      ]
     },
     "execution_count": 52,
     "metadata": {},
     "output_type": "execute_result"
    }
   ],
   "source": [
    "df.corr()"
   ]
  },
  {
   "cell_type": "code",
   "execution_count": 53,
   "metadata": {},
   "outputs": [
    {
     "data": {
      "text/plain": [
       "<matplotlib.axes._subplots.AxesSubplot at 0x1a3274a16c8>"
      ]
     },
     "execution_count": 53,
     "metadata": {},
     "output_type": "execute_result"
    },
    {
     "data": {
      "image/png": "[encoded data removed]",
      "text/plain": [
       "<Figure size 432x288 with 2 Axes>"
      ]
     },
     "metadata": {
      "needs_background": "light"
     },
     "output_type": "display_data"
    }
   ],
   "source": [
    "sns.heatmap(df.corr())"
   ]
  },
  {
   "cell_type": "code",
   "execution_count": 55,
   "metadata": {},
   "outputs": [
    {
     "data": {
      "text/plain": [
       "(10155, 15)"
      ]
     },
     "execution_count": 55,
     "metadata": {},
     "output_type": "execute_result"
    }
   ],
   "source": [
    "df.shape"
   ]
  },
  {
   "cell_type": "code",
   "execution_count": 56,
   "metadata": {},
   "outputs": [],
   "source": [
    "x=df.copy()"
   ]
  },
  {
   "cell_type": "code",
   "execution_count": 59,
   "metadata": {},
   "outputs": [],
   "source": [
    "pca = PCA(n_components=15)"
   ]
  },
  {
   "cell_type": "code",
   "execution_count": 61,
   "metadata": {},
   "outputs": [
    {
     "data": {
      "text/plain": [
       "PCA(n_components=15)"
      ]
     },
     "execution_count": 61,
     "metadata": {},
     "output_type": "execute_result"
    }
   ],
   "source": [
    "pca.fit(x)"
   ]
  },
  {
   "cell_type": "code",
   "execution_count": 62,
   "metadata": {},
   "outputs": [
    {
     "data": {
      "text/plain": [
       "array([[ 8.57915367e-02,  3.13783209e-01,  1.30285683e-01,\n",
       "         4.57745246e-01,  7.14276664e-02,  1.56800515e-01,\n",
       "         2.96026703e-01,  2.56426329e-01,  2.71452091e-02,\n",
       "         1.80698655e-02,  1.54165617e-01,  2.11806374e-01,\n",
       "         1.51439560e-01,  2.10928598e-01,  5.89476957e-01],\n",
       "       [ 7.37513373e-02, -1.31087951e-01,  2.17275923e-02,\n",
       "        -1.78293501e-01,  3.91851961e-02,  7.59327966e-03,\n",
       "        -1.45557720e-01, -6.85876590e-02,  1.80555974e-02,\n",
       "         2.66187237e-03,  9.46273313e-01, -3.49430203e-02,\n",
       "         1.26740125e-01, -5.46009212e-02,  3.99995813e-02],\n",
       "       [-1.12663994e-01, -1.87144867e-01, -1.65603695e-01,\n",
       "        -3.35567967e-01, -8.41177972e-02, -1.09539714e-01,\n",
       "         8.59643929e-01,  6.15619486e-03,  9.15816163e-03,\n",
       "        -9.22452110e-03,  3.86560800e-02, -1.77019157e-01,\n",
       "         1.32474566e-01,  5.76223213e-02,  1.68511529e-02],\n",
       "       [ 5.32413170e-01, -3.58882431e-01,  5.68567382e-01,\n",
       "        -3.12617134e-01,  2.82705411e-01,  4.38639653e-02,\n",
       "         4.83602436e-02, -4.44523195e-02,  1.69791762e-02,\n",
       "         7.51305636e-03, -1.70931973e-01,  1.42437506e-01,\n",
       "        -1.64447087e-02,  5.80591510e-03,  1.74427921e-01],\n",
       "       [ 1.19317261e-01,  8.19972944e-01,  1.28430751e-01,\n",
       "        -4.56014247e-01,  1.84294787e-02, -1.45310256e-01,\n",
       "         6.60792692e-02, -1.66986277e-01, -2.01903609e-02,\n",
       "        -2.25752768e-02,  2.02345594e-02,  1.26027372e-01,\n",
       "        -4.47913996e-02, -1.17331850e-01, -4.77079333e-02],\n",
       "       [-1.38220336e-02,  3.33415602e-02, -1.50845960e-01,\n",
       "        -4.43184251e-01, -1.55806119e-02,  1.74526941e-01,\n",
       "        -2.26433419e-01,  8.07764637e-01,  1.76784008e-02,\n",
       "         1.75208301e-02, -7.29396062e-02, -1.18018324e-01,\n",
       "         1.19686473e-01,  5.24617042e-02,  9.01509789e-02],\n",
       "       [-7.59980211e-01, -1.02931243e-02,  6.26439396e-01,\n",
       "        -1.00784188e-01,  4.83445982e-02,  1.17582662e-01,\n",
       "        -1.46033532e-02,  8.75352515e-03,  9.72712591e-03,\n",
       "         1.50969189e-02,  1.45965932e-02, -3.92551619e-02,\n",
       "         2.51934247e-02,  1.15040409e-02,  2.10708950e-02],\n",
       "       [ 9.94078184e-03, -4.03747570e-02,  2.10704226e-01,\n",
       "         1.86295889e-01, -1.05528226e-02, -8.56429432e-01,\n",
       "         2.18056798e-02,  3.82313089e-01, -4.05138674e-02,\n",
       "        -4.65566126e-02,  7.82658558e-02,  7.12023783e-02,\n",
       "        -7.68528458e-02, -5.28470884e-02, -1.23465472e-01],\n",
       "       [ 2.55698846e-01,  5.32050396e-02,  3.48689709e-01,\n",
       "         1.54416077e-01, -6.68685674e-01,  2.69291450e-01,\n",
       "         1.35568898e-01,  1.64212338e-01, -2.74418183e-02,\n",
       "         1.97974876e-02,  7.34666122e-02,  2.86650112e-02,\n",
       "         1.05816794e-01,  4.55905899e-03, -4.50303734e-01],\n",
       "       [ 7.58980292e-03,  9.20997977e-02, -2.51893570e-02,\n",
       "         1.44521957e-01,  6.32829037e-01,  1.82235610e-01,\n",
       "         1.71047182e-01,  1.65830953e-01, -1.73350527e-02,\n",
       "        -2.24381385e-03,  8.29106734e-02,  1.70370995e-01,\n",
       "         9.70757386e-02,  2.13187963e-01, -6.23234041e-01],\n",
       "       [-8.14154979e-03, -2.35114937e-02, -3.47923733e-03,\n",
       "         7.63674312e-03,  3.09426161e-02,  1.00775141e-01,\n",
       "         4.84049107e-02,  5.12998893e-02, -9.36143533e-01,\n",
       "        -2.52750508e-01,  3.87785691e-02,  6.91062453e-04,\n",
       "        -1.58272535e-01, -1.16181915e-01,  5.40600546e-02],\n",
       "       [ 8.70685564e-04,  5.15139527e-03, -1.08191248e-02,\n",
       "         4.83698641e-04,  2.07723976e-02, -5.60013740e-02,\n",
       "        -2.62207517e-03, -1.67499051e-02, -2.74132453e-01,\n",
       "         9.52893290e-01, -1.46927164e-02,  3.29539227e-03,\n",
       "         9.81130174e-02, -5.47072847e-02,  5.71155966e-04],\n",
       "       [ 8.46649434e-02,  8.46633773e-02,  8.46637995e-02,\n",
       "        -5.28025313e-02, -5.28026413e-02, -1.57121688e-01,\n",
       "        -1.57121718e-01, -1.57121645e-01, -1.57123891e-01,\n",
       "        -1.96552345e-02, -1.96555532e-02, -4.23318608e-01,\n",
       "         1.17934696e-01,  8.24797115e-01, -5.64319037e-07],\n",
       "       [ 7.66876899e-02,  7.66882296e-02,  7.66887699e-02,\n",
       "         7.32714945e-02,  7.32717025e-02,  1.36988965e-01,\n",
       "         1.36988060e-01,  1.36988292e-01,  1.36987418e-01,\n",
       "         1.40403479e-01,  1.40405229e-01, -3.83439466e-01,\n",
       "        -8.42427073e-01,  2.05007235e-02, -1.05019560e-06],\n",
       "       [ 1.42798783e-01,  1.42798600e-01,  1.42797935e-01,\n",
       "         2.14881843e-01,  2.14882693e-01,  9.40637233e-03,\n",
       "         9.40721352e-03,  9.40630677e-03,  9.40518351e-03,\n",
       "        -6.26730996e-02, -6.26767454e-02, -7.13993758e-01,\n",
       "         3.76060705e-01, -4.32502134e-01,  1.95764381e-07]])"
      ]
     },
     "execution_count": 62,
     "metadata": {},
     "output_type": "execute_result"
    }
   ],
   "source": [
    "pca.components_"
   ]
  },
  {
   "cell_type": "code",
   "execution_count": 63,
   "metadata": {},
   "outputs": [
    {
     "data": {
      "text/plain": [
       "(15, 15)"
      ]
     },
     "execution_count": 63,
     "metadata": {},
     "output_type": "execute_result"
    }
   ],
   "source": [
    "pca.components_.shape"
   ]
  },
  {
   "cell_type": "code",
   "execution_count": 65,
   "metadata": {},
   "outputs": [
    {
     "data": {
      "text/plain": [
       "array([5.33412283e-01, 1.34555989e-01, 9.09797606e-02, 6.51591635e-02,\n",
       "       5.55652406e-02, 4.24157150e-02, 3.08352236e-02, 2.24961123e-02,\n",
       "       1.21348837e-02, 8.65427684e-03, 2.42711231e-03, 1.36423913e-03,\n",
       "       1.15309636e-10, 1.05710247e-10, 1.00508803e-10])"
      ]
     },
     "execution_count": 65,
     "metadata": {},
     "output_type": "execute_result"
    }
   ],
   "source": [
    "var=pca.explained_variance_ratio_\n",
    "var"
   ]
  },
  {
   "cell_type": "code",
   "execution_count": 68,
   "metadata": {},
   "outputs": [],
   "source": [
    "var1=np.cumsum(np.round(pca.explained_variance_ratio_ , decimals=4)*100)"
   ]
  },
  {
   "cell_type": "code",
   "execution_count": 69,
   "metadata": {},
   "outputs": [
    {
     "data": {
      "text/plain": [
       "array([ 53.34,  66.8 ,  75.9 ,  82.42,  87.98,  92.22,  95.3 ,  97.55,\n",
       "        98.76,  99.63,  99.87, 100.01, 100.01, 100.01, 100.01])"
      ]
     },
     "execution_count": 69,
     "metadata": {},
     "output_type": "execute_result"
    }
   ],
   "source": [
    "var1"
   ]
  },
  {
   "cell_type": "code",
   "execution_count": 72,
   "metadata": {},
   "outputs": [],
   "source": [
    "pca=PCA(n_components=11)"
   ]
  },
  {
   "cell_type": "code",
   "execution_count": 73,
   "metadata": {},
   "outputs": [
    {
     "data": {
      "text/plain": [
       "PCA(n_components=11)"
      ]
     },
     "execution_count": 73,
     "metadata": {},
     "output_type": "execute_result"
    }
   ],
   "source": [
    "pca.fit(x)"
   ]
  },
  {
   "cell_type": "code",
   "execution_count": 74,
   "metadata": {},
   "outputs": [
    {
     "data": {
      "text/plain": [
       "(11, 15)"
      ]
     },
     "execution_count": 74,
     "metadata": {},
     "output_type": "execute_result"
    }
   ],
   "source": [
    "pca.components_.shape"
   ]
  },
  {
   "cell_type": "code",
   "execution_count": 75,
   "metadata": {},
   "outputs": [],
   "source": [
    "x1=pd.DataFrame(pca.transform(x))"
   ]
  },
  {
   "cell_type": "code",
   "execution_count": 79,
   "metadata": {},
   "outputs": [
    {
     "data": {
      "text/html": [
       "<div>\n",
       "<style scoped>\n",
       "    .dataframe tbody tr th:only-of-type {\n",
       "        vertical-align: middle;\n",
       "    }\n",
       "\n",
       "    .dataframe tbody tr th {\n",
       "        vertical-align: top;\n",
       "    }\n",
       "\n",
       "    .dataframe thead th {\n",
       "        text-align: right;\n",
       "    }\n",
       "</style>\n",
       "<table border=\"1\" class=\"dataframe\">\n",
       "  <thead>\n",
       "    <tr style=\"text-align: right;\">\n",
       "      <th></th>\n",
       "      <th>0</th>\n",
       "      <th>1</th>\n",
       "      <th>2</th>\n",
       "      <th>3</th>\n",
       "      <th>4</th>\n",
       "      <th>5</th>\n",
       "      <th>6</th>\n",
       "      <th>7</th>\n",
       "      <th>8</th>\n",
       "      <th>9</th>\n",
       "      <th>10</th>\n",
       "    </tr>\n",
       "  </thead>\n",
       "  <tbody>\n",
       "    <tr>\n",
       "      <th>0</th>\n",
       "      <td>44.664678</td>\n",
       "      <td>-24.833216</td>\n",
       "      <td>-60.969381</td>\n",
       "      <td>12.456754</td>\n",
       "      <td>82.699032</td>\n",
       "      <td>16.975207</td>\n",
       "      <td>-117.273997</td>\n",
       "      <td>4.591509</td>\n",
       "      <td>41.197474</td>\n",
       "      <td>4.204353</td>\n",
       "      <td>-16.316471</td>\n",
       "    </tr>\n",
       "    <tr>\n",
       "      <th>1</th>\n",
       "      <td>-95.706359</td>\n",
       "      <td>-14.830345</td>\n",
       "      <td>-5.586863</td>\n",
       "      <td>-42.826575</td>\n",
       "      <td>50.317082</td>\n",
       "      <td>-17.343404</td>\n",
       "      <td>-2.442911</td>\n",
       "      <td>5.506218</td>\n",
       "      <td>-0.368996</td>\n",
       "      <td>-2.184968</td>\n",
       "      <td>1.140488</td>\n",
       "    </tr>\n",
       "    <tr>\n",
       "      <th>2</th>\n",
       "      <td>213.557086</td>\n",
       "      <td>-70.056403</td>\n",
       "      <td>-137.160246</td>\n",
       "      <td>-99.779193</td>\n",
       "      <td>-27.482453</td>\n",
       "      <td>-81.157304</td>\n",
       "      <td>5.142516</td>\n",
       "      <td>-100.756661</td>\n",
       "      <td>31.542901</td>\n",
       "      <td>24.151742</td>\n",
       "      <td>12.348760</td>\n",
       "    </tr>\n",
       "    <tr>\n",
       "      <th>3</th>\n",
       "      <td>-140.393937</td>\n",
       "      <td>-7.784232</td>\n",
       "      <td>10.647294</td>\n",
       "      <td>-28.181972</td>\n",
       "      <td>-23.117055</td>\n",
       "      <td>24.659953</td>\n",
       "      <td>3.702517</td>\n",
       "      <td>-3.885265</td>\n",
       "      <td>43.012486</td>\n",
       "      <td>46.481986</td>\n",
       "      <td>1.894316</td>\n",
       "    </tr>\n",
       "    <tr>\n",
       "      <th>4</th>\n",
       "      <td>206.623855</td>\n",
       "      <td>-14.058794</td>\n",
       "      <td>-51.506288</td>\n",
       "      <td>-0.726596</td>\n",
       "      <td>-79.478847</td>\n",
       "      <td>112.462350</td>\n",
       "      <td>-59.112371</td>\n",
       "      <td>51.433511</td>\n",
       "      <td>-25.159117</td>\n",
       "      <td>-10.460572</td>\n",
       "      <td>2.052618</td>\n",
       "    </tr>\n",
       "    <tr>\n",
       "      <th>...</th>\n",
       "      <td>...</td>\n",
       "      <td>...</td>\n",
       "      <td>...</td>\n",
       "      <td>...</td>\n",
       "      <td>...</td>\n",
       "      <td>...</td>\n",
       "      <td>...</td>\n",
       "      <td>...</td>\n",
       "      <td>...</td>\n",
       "      <td>...</td>\n",
       "      <td>...</td>\n",
       "    </tr>\n",
       "    <tr>\n",
       "      <th>10150</th>\n",
       "      <td>-120.739571</td>\n",
       "      <td>-7.091631</td>\n",
       "      <td>17.216870</td>\n",
       "      <td>-19.202629</td>\n",
       "      <td>-15.405755</td>\n",
       "      <td>-16.529606</td>\n",
       "      <td>-1.390133</td>\n",
       "      <td>12.169215</td>\n",
       "      <td>-0.082221</td>\n",
       "      <td>5.374272</td>\n",
       "      <td>-2.099412</td>\n",
       "    </tr>\n",
       "    <tr>\n",
       "      <th>10151</th>\n",
       "      <td>62.928464</td>\n",
       "      <td>-51.296623</td>\n",
       "      <td>-74.941670</td>\n",
       "      <td>-90.740487</td>\n",
       "      <td>-5.067074</td>\n",
       "      <td>-76.541129</td>\n",
       "      <td>-19.434187</td>\n",
       "      <td>30.931164</td>\n",
       "      <td>-2.537601</td>\n",
       "      <td>-6.095557</td>\n",
       "      <td>2.841547</td>\n",
       "    </tr>\n",
       "    <tr>\n",
       "      <th>10152</th>\n",
       "      <td>-66.851633</td>\n",
       "      <td>13.803687</td>\n",
       "      <td>-17.337947</td>\n",
       "      <td>127.574882</td>\n",
       "      <td>24.561906</td>\n",
       "      <td>-18.105183</td>\n",
       "      <td>-55.828108</td>\n",
       "      <td>10.733873</td>\n",
       "      <td>-36.948864</td>\n",
       "      <td>14.499009</td>\n",
       "      <td>5.888114</td>\n",
       "    </tr>\n",
       "    <tr>\n",
       "      <th>10153</th>\n",
       "      <td>-130.603801</td>\n",
       "      <td>-5.488275</td>\n",
       "      <td>12.659599</td>\n",
       "      <td>-26.141814</td>\n",
       "      <td>27.743794</td>\n",
       "      <td>1.204973</td>\n",
       "      <td>0.961207</td>\n",
       "      <td>6.890503</td>\n",
       "      <td>3.372382</td>\n",
       "      <td>0.824007</td>\n",
       "      <td>-0.790565</td>\n",
       "    </tr>\n",
       "    <tr>\n",
       "      <th>10154</th>\n",
       "      <td>242.696494</td>\n",
       "      <td>-70.986767</td>\n",
       "      <td>-8.768105</td>\n",
       "      <td>-65.421698</td>\n",
       "      <td>-139.817697</td>\n",
       "      <td>-92.118390</td>\n",
       "      <td>-14.267804</td>\n",
       "      <td>-42.925603</td>\n",
       "      <td>-0.579919</td>\n",
       "      <td>-7.277837</td>\n",
       "      <td>-2.964177</td>\n",
       "    </tr>\n",
       "  </tbody>\n",
       "</table>\n",
       "<p>10155 rows × 11 columns</p>\n",
       "</div>"
      ],
      "text/plain": [
       "                0          1           2           3           4           5  \\\n",
       "0       44.664678 -24.833216  -60.969381   12.456754   82.699032   16.975207   \n",
       "1      -95.706359 -14.830345   -5.586863  -42.826575   50.317082  -17.343404   \n",
       "2      213.557086 -70.056403 -137.160246  -99.779193  -27.482453  -81.157304   \n",
       "3     -140.393937  -7.784232   10.647294  -28.181972  -23.117055   24.659953   \n",
       "4      206.623855 -14.058794  -51.506288   -0.726596  -79.478847  112.462350   \n",
       "...           ...        ...         ...         ...         ...         ...   \n",
       "10150 -120.739571  -7.091631   17.216870  -19.202629  -15.405755  -16.529606   \n",
       "10151   62.928464 -51.296623  -74.941670  -90.740487   -5.067074  -76.541129   \n",
       "10152  -66.851633  13.803687  -17.337947  127.574882   24.561906  -18.105183   \n",
       "10153 -130.603801  -5.488275   12.659599  -26.141814   27.743794    1.204973   \n",
       "10154  242.696494 -70.986767   -8.768105  -65.421698 -139.817697  -92.118390   \n",
       "\n",
       "                6           7          8          9         10  \n",
       "0     -117.273997    4.591509  41.197474   4.204353 -16.316471  \n",
       "1       -2.442911    5.506218  -0.368996  -2.184968   1.140488  \n",
       "2        5.142516 -100.756661  31.542901  24.151742  12.348760  \n",
       "3        3.702517   -3.885265  43.012486  46.481986   1.894316  \n",
       "4      -59.112371   51.433511 -25.159117 -10.460572   2.052618  \n",
       "...           ...         ...        ...        ...        ...  \n",
       "10150   -1.390133   12.169215  -0.082221   5.374272  -2.099412  \n",
       "10151  -19.434187   30.931164  -2.537601  -6.095557   2.841547  \n",
       "10152  -55.828108   10.733873 -36.948864  14.499009   5.888114  \n",
       "10153    0.961207    6.890503   3.372382   0.824007  -0.790565  \n",
       "10154  -14.267804  -42.925603  -0.579919  -7.277837  -2.964177  \n",
       "\n",
       "[10155 rows x 11 columns]"
      ]
     },
     "execution_count": 79,
     "metadata": {},
     "output_type": "execute_result"
    }
   ],
   "source": [
    "#this new df can be used in modelling process\n",
    "x1"
   ]
  },
  {
   "cell_type": "code",
   "execution_count": 81,
   "metadata": {},
   "outputs": [],
   "source": [
    "#pc1\n",
    "#loadings mean linear combo of 15 variables in this manner \n",
    "loadings=pca.components_[0]"
   ]
  },
  {
   "cell_type": "code",
   "execution_count": 82,
   "metadata": {},
   "outputs": [
    {
     "data": {
      "text/plain": [
       "array([0.08579154, 0.31378321, 0.13028568, 0.45774525, 0.07142767,\n",
       "       0.15680051, 0.2960267 , 0.25642633, 0.02714521, 0.01806987,\n",
       "       0.15416562, 0.21180637, 0.15143956, 0.2109286 , 0.58947696])"
      ]
     },
     "execution_count": 82,
     "metadata": {},
     "output_type": "execute_result"
    }
   ],
   "source": [
    "loadings"
   ]
  },
  {
   "cell_type": "code",
   "execution_count": null,
   "metadata": {},
   "outputs": [],
   "source": []
  },
  {
   "cell_type": "code",
   "execution_count": 83,
   "metadata": {},
   "outputs": [
    {
     "data": {
      "text/plain": [
       "[('Average Credit Card Transaction', 0.08579153670052453),\n",
       " ('Balance Transfer', 0.3137832089653261),\n",
       " ('Term Deposit', 0.1302856828239751),\n",
       " ('Life Insurance', 0.45774524563222707),\n",
       " ('Medical Insurance', 0.07142766637435656),\n",
       " ('Average A/C Balance', 0.15680051455602131),\n",
       " ('Personal Loan', 0.29602670335730336),\n",
       " ('Investment in Mutual Fund', 0.2564263286009662),\n",
       " ('Investment Tax Saving Bond', 0.02714520910525225),\n",
       " ('Home Loan', 0.018069865464450992),\n",
       " ('Online Purchase Amount', 0.1541656171414402),\n",
       " ('Investment in Commudity', 0.2118063742900707),\n",
       " ('Investment in Equity', 0.15143956024688812),\n",
       " ('Investment in Derivative', 0.2109285981491317),\n",
       " ('Portfolio Balance', 0.5894769570783732)]"
      ]
     },
     "execution_count": 83,
     "metadata": {},
     "output_type": "execute_result"
    }
   ],
   "source": [
    "list(zip(df.columns, loadings))"
   ]
  },
  {
   "cell_type": "code",
   "execution_count": 85,
   "metadata": {},
   "outputs": [
    {
     "data": {
      "text/plain": [
       "<matplotlib.axes._subplots.AxesSubplot at 0x1a3254b1a88>"
      ]
     },
     "execution_count": 85,
     "metadata": {},
     "output_type": "execute_result"
    },
    {
     "data": {
      "image/png": "[encoded data removed]",
      "text/plain": [
       "<Figure size 432x288 with 2 Axes>"
      ]
     },
     "metadata": {
      "needs_background": "light"
     },
     "output_type": "display_data"
    }
   ],
   "source": [
    "#zero correlation!\n",
    "sns.heatmap(x1.corr())"
   ]
  },
  {
   "cell_type": "code",
   "execution_count": null,
   "metadata": {},
   "outputs": [],
   "source": []
  }
 ],
 "metadata": {
  "kernelspec": {
   "display_name": "Python 3",
   "language": "python",
   "name": "python3"
  },
  "language_info": {
   "codemirror_mode": {
    "name": "ipython",
    "version": 3
   },
   "file_extension": ".py",
   "mimetype": "text/x-python",
   "name": "python",
   "nbconvert_exporter": "python",
   "pygments_lexer": "ipython3",
   "version": "3.7.7"
  }
 },
 "nbformat": 4,
 "nbformat_minor": 4
}
